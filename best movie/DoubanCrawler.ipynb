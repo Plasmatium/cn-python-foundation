{
 "cells": [
  {
   "cell_type": "code",
   "execution_count": 156,
   "metadata": {},
   "outputs": [],
   "source": [
    "from bs4 import BeautifulSoup as bs\n",
    "import requests\n",
    "import csv\n",
    "import time\n",
    "from expanddouban import getHtml"
   ]
  },
  {
   "cell_type": "code",
   "execution_count": 157,
   "metadata": {},
   "outputs": [],
   "source": [
    "from imp import reload\n",
    "import expanddouban\n",
    "reload(expanddouban)\n",
    "getHtml = expanddouban.getHtml\n",
    "newBrowser = expanddouban.newBrowser"
   ]
  },
  {
   "cell_type": "code",
   "execution_count": 158,
   "metadata": {},
   "outputs": [],
   "source": [
    "cats = [\n",
    "    '剧情', '爱情', '喜剧', '科幻',\n",
    "    '动作', '悬疑', '犯罪', '恐怖',\n",
    "    '青春', '励志', '战争', '文艺',\n",
    "    '黑色', '幽默', '传记', '情色',\n",
    "    '暴力','音乐','家庭'\n",
    "]\n",
    "\n",
    "locs = [\n",
    "    '大陆', '美国', '香港', '台湾',\n",
    "    '日本', '韩国', '英国', '法国',\n",
    "    '德国', '意大利', '西班牙',\n",
    "    '印度', '泰国', '俄罗斯', '伊朗',\n",
    "    '加拿大', '澳大利亚', '爱尔兰',\n",
    "    '瑞典', '巴西', '丹麦',\n",
    "]"
   ]
  },
  {
   "cell_type": "code",
   "execution_count": 159,
   "metadata": {},
   "outputs": [],
   "source": [
    "\"\"\"\n",
    "url example:\n",
    "  https://movie.douban.com/tag/#/?sort=S&range=9,10&tags=电影,剧情,美国\n",
    "\"\"\"\n",
    "\n",
    "\"\"\"\n",
    "return a string corresponding to the URL of douban movie lists given category and location.\n",
    "@param category: str\n",
    "@param location: str\n",
    "\"\"\"\n",
    "def getMovieUrl(category, location):\n",
    "    url = 'https://movie.douban.com/tag/#/?sort=S&range=9,10&tags=电影'\n",
    "    return ','.join([url, category, location])\n"
   ]
  },
  {
   "cell_type": "code",
   "execution_count": 160,
   "metadata": {},
   "outputs": [],
   "source": [
    "class Movie:\n",
    "    def __init__(self, name, rate, location, category, info_link, cover_link):\n",
    "        self.name = name\n",
    "        self.rate = rate\n",
    "        self.location = location\n",
    "        self.category = category\n",
    "        self.info_link = info_link\n",
    "        self.cover_link = cover_link\n"
   ]
  },
  {
   "cell_type": "code",
   "execution_count": 161,
   "metadata": {},
   "outputs": [],
   "source": [
    "def extractOnePage (page):\n",
    "    soup = bs(page, 'lxml')\n",
    "    listWpDiv = soup.find(name='div', attrs={'class': 'list-wp'})\n",
    "    if listWpDiv:\n",
    "        listWp = listWpDiv.find_all(name='a', attrs={'class': 'item'})\n",
    "        return [extractOneItem(item) for item in listWp]\n",
    "    else:\n",
    "        return []\n",
    "\n",
    "def extractOneItem (item):\n",
    "    '''\n",
    "    find title, rate, img\n",
    "    '''\n",
    "    title = item.find(attrs={'class', 'title'}).text\n",
    "    rate = item.find(attrs={'class', 'rate'}).text\n",
    "    img = item.find('img').attrs['src']\n",
    "    return title, rate, img\n",
    "\n",
    "def fetchOneCat (cat):\n",
    "    urls = [getMovieUrl(cat, loc) for loc in locs]\n",
    "    pages = newBatch(urls)\n",
    "    return pages\n",
    "\n",
    "def getMovies (cat, loc):\n",
    "    url = getMovieUrl(cat, loc)\n",
    "    moviesRawData = extractOnePage(url)\n",
    "    return [(mv[0], mv[1], loc, cat, mv[2]) for mv in moviesRawData if mv]\n"
   ]
  },
  {
   "cell_type": "code",
   "execution_count": 162,
   "metadata": {},
   "outputs": [],
   "source": [
    "def newBatchForOneCat (cat):\n",
    "    urls = [getMovieUrl(cat, loc) for loc in locs]\n",
    "    \n",
    "    browser = newBrowser()\n",
    "    baseScript = '''\n",
    "    function spawnNew (url) {\n",
    "        window.sleep = async function (time) {\n",
    "            return new Promise((res, rej) => {\n",
    "                setTimeout(res, time)\n",
    "            })\n",
    "        }\n",
    "\n",
    "        window.autoNext = async function () {\n",
    "            nextBtn = document.querySelector('.more')\n",
    "            for(let i=0; i<25; i++) {\n",
    "                console.log('show more')\n",
    "                // nextBtn.click() 亲测不起作用，因为在后台的标签会挂起click，\n",
    "                // 等到切换此tab到前台才真正执行click的listener函数，\n",
    "                // 所以要直接把listenser函数暴力挖出，直接执行\n",
    "                getEventListeners(nextBtn).click[0].listener()\n",
    "                await sleep(2000)\n",
    "                nextBtn = document.querySelector('.more')\n",
    "                if (!nextBtn) break\n",
    "            }\n",
    "        }\n",
    "        \n",
    "        setTimeout(() => window.location = url, 0)\n",
    "        setTimeout(() => window.stop(), 15000)\n",
    "        setTimeout(() => window.autoNext(), 5000)\n",
    "        window.open()\n",
    "    }\n",
    "    '''\n",
    "    for url in urls:\n",
    "        script = baseScript + f'\\nspawnNew(\"{url}\")'\n",
    "        browser.execute_script(script)\n",
    "        # browser.execute_script('window.open(\"about:blank\")')\n",
    "        browser.switch_to.window(browser.window_handles[-1])\n",
    "    \n",
    "    time.sleep(10)\n",
    "    result = []\n",
    "    for i in range(len(browser.window_handles) - 1): # len - 1 for last is 'about:blank'\n",
    "        browser.switch_to.window(browser.window_handles[i])\n",
    "        page = browser.page_source\n",
    "        loc = locs[i]\n",
    "        rawMoviesData = extractOnePage(page)\n",
    "        refinedCatData = [(mv[0], mv[1], loc, cat, mv[2]) for mv in rawMoviesData if mv]\n",
    "        result.append(refinedCatData)\n",
    "    time.sleep(1000)\n",
    "    browser.quit()\n",
    "    return result"
   ]
  },
  {
   "cell_type": "code",
   "execution_count": 163,
   "metadata": {},
   "outputs": [],
   "source": [
    "def top3ForOneCat (cat):\n",
    "    catData = newBatchForOneCat(cat)\n",
    "    stats = [(d[0][2], len(d)) for d in catData if d] # [(loc, count), ...]\n",
    "    stats = sorted(stats, key=lambda item: item[1], reverse=True)\n",
    "    stats += [None, None, None] # 保证有3个\n",
    "    return {cat: [stats[0], stats[1], stats[2]]}"
   ]
  },
  {
   "cell_type": "code",
   "execution_count": null,
   "metadata": {},
   "outputs": [],
   "source": [
    "top3ForOneCat('科幻')"
   ]
  },
  {
   "cell_type": "code",
   "execution_count": 131,
   "metadata": {},
   "outputs": [],
   "source": [
    "from gevent import monkey, spawn, joinall\n",
    "monkey.patch_socket()\n",
    "def getAllTop3s ():\n",
    "    gs = [spawn(top3ForOneCat, cat) for cat in cats]\n",
    "    joinall(gs)\n",
    "    return [g.value for g in gs]"
   ]
  }
 ],
 "metadata": {
  "kernelspec": {
   "display_name": "Python 3",
   "language": "python",
   "name": "python3"
  },
  "language_info": {
   "codemirror_mode": {
    "name": "ipython",
    "version": 3
   },
   "file_extension": ".py",
   "mimetype": "text/x-python",
   "name": "python",
   "nbconvert_exporter": "python",
   "pygments_lexer": "ipython3",
   "version": "3.6.4"
  }
 },
 "nbformat": 4,
 "nbformat_minor": 2
}
