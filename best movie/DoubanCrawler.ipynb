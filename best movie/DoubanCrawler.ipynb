{
 "cells": [
  {
   "cell_type": "code",
   "execution_count": 11,
   "metadata": {},
   "outputs": [],
   "source": [
    "from bs4 import BeautifulSoup as bs\n",
    "import requests\n",
    "import csv\n",
    "import time\n",
    "from expanddouban import getHtml"
   ]
  },
  {
   "cell_type": "code",
   "execution_count": 12,
   "metadata": {},
   "outputs": [],
   "source": [
    "from imp import reload\n",
    "import expanddouban\n",
    "reload(expanddouban)\n",
    "getHtml = expanddouban.getHtml\n",
    "newBrowser = expanddouban.newBrowser"
   ]
  },
  {
   "cell_type": "code",
   "execution_count": 13,
   "metadata": {},
   "outputs": [],
   "source": [
    "cats = [\n",
    "    '剧情', '爱情', '喜剧', '科幻',\n",
    "    '动作', '悬疑', '犯罪', '恐怖',\n",
    "    '青春', '励志', '战争', '文艺',\n",
    "    '黑色', '幽默', '传记', '情色',\n",
    "    '暴力','音乐','家庭'\n",
    "]\n",
    "\n",
    "locs = [\n",
    "    '大陆', '美国', '香港', '台湾',\n",
    "    '日本', '韩国', '英国', '法国',\n",
    "    '德国', '意大利', '西班牙',\n",
    "    '印度', '泰国', '俄罗斯', '伊朗',\n",
    "    '加拿大', '澳大利亚', '爱尔兰',\n",
    "    '瑞典', '巴西', '丹麦',\n",
    "]"
   ]
  },
  {
   "cell_type": "code",
   "execution_count": 14,
   "metadata": {},
   "outputs": [],
   "source": [
    "\"\"\"\n",
    "url example:\n",
    "  https://movie.douban.com/tag/#/?sort=S&range=9,10&tags=电影,剧情,美国\n",
    "\"\"\"\n",
    "\n",
    "\"\"\"\n",
    "return a string corresponding to the URL of douban movie lists given category and location.\n",
    "@param category: str\n",
    "@param location: str\n",
    "\"\"\"\n",
    "def getMovieUrl(category, location):\n",
    "    url = 'https://movie.douban.com/tag/#/?sort=S&range=9,10&tags=电影'\n",
    "    return ','.join([url, category, location])\n"
   ]
  },
  {
   "cell_type": "code",
   "execution_count": 15,
   "metadata": {},
   "outputs": [],
   "source": [
    "class Movie:\n",
    "    def __init__(self, name, rate, location, category, info_link, cover_link):\n",
    "        self.name = name\n",
    "        self.rate = rate\n",
    "        self.location = location\n",
    "        self.category = category\n",
    "        self.info_link = info_link\n",
    "        self.cover_link = cover_link\n"
   ]
  },
  {
   "cell_type": "code",
   "execution_count": 16,
   "metadata": {},
   "outputs": [],
   "source": [
    "def extractOnePage (page):\n",
    "    soup = bs(page, 'lxml')\n",
    "    listWpDiv = soup.find(name='div', attrs={'class': 'list-wp'})\n",
    "    if listWpDiv:\n",
    "        listWp = listWpDiv.find_all(name='a', attrs={'class': 'item'})\n",
    "        return [extractOneItem(item) for item in listWp]\n",
    "    else:\n",
    "        return []\n",
    "\n",
    "def extractOneItem (item):\n",
    "    '''\n",
    "    find title, rate, img\n",
    "    '''\n",
    "    title = item.find(attrs={'class', 'title'}).text\n",
    "    rate = item.find(attrs={'class', 'rate'}).text\n",
    "    img = item.find('img').attrs['src']\n",
    "    return title, rate, img\n",
    "\n",
    "def fetchOneCat (cat):\n",
    "    urls = [getMovieUrl(cat, loc) for loc in locs]\n",
    "    pages = newBatch(urls)\n",
    "    return pages\n",
    "\n",
    "def getMovies (cat, loc):\n",
    "    url = getMovieUrl(cat, loc)\n",
    "    moviesRawData = extractOnePage(url)\n",
    "    return [(mv[0], mv[1], loc, cat, mv[2]) for mv in moviesRawData if mv]\n"
   ]
  },
  {
   "cell_type": "code",
   "execution_count": 22,
   "metadata": {},
   "outputs": [],
   "source": [
    "def newBatchForOneCat (cat):\n",
    "    # urls = [getMovieUrl(cat, loc) for loc in locs]\n",
    "    urls = [getMovieUrl(cat, loc) for loc in locs]\n",
    "    \n",
    "    browser = newBrowser()\n",
    "    baseScript = '''\n",
    "    function spawnNew (url) {        \n",
    "        setTimeout(() => { window.location = url }, 0)\n",
    "        setTimeout(() => { window.stop() }, 4000)\n",
    "        window.open()\n",
    "    }\n",
    "    '''\n",
    "    showMoreScript = '''\n",
    "    window.sleep = async function (time) {\n",
    "        return new Promise((res, rej) => {\n",
    "            setTimeout(res, time)\n",
    "        })\n",
    "    }\n",
    "\n",
    "    window.autoNext = async function () {\n",
    "        nextBtn = document.querySelector('.more')\n",
    "        for(let i=0; i<50; i++) {\n",
    "            console.log('show more')\n",
    "            nextBtn.click()\n",
    "            await sleep(2000)\n",
    "            nextBtn = document.querySelector('.more')\n",
    "        }\n",
    "    }\n",
    "    window.autoNext()\n",
    "    '''\n",
    "    for url in urls:\n",
    "        script = baseScript + f'\\nspawnNew(\"{url}\")'\n",
    "        browser.execute_script(script)\n",
    "        browser.switch_to.window(browser.window_handles[-1])\n",
    "    \n",
    "    time.sleep(1.5)\n",
    "    for i in range(len(browser.window_handles) - 1):\n",
    "        browser.switch_to.window(browser.window_handles[i])\n",
    "        time.sleep(0.2)\n",
    "        browser.execute_script(showMoreScript)\n",
    "    \n",
    "    time.sleep(1.5)\n",
    "    result = []\n",
    "    for i in range(len(browser.window_handles) - 1): # len - 1 for last is 'about:blank'\n",
    "        browser.switch_to.window(browser.window_handles[i])\n",
    "        page = browser.page_source\n",
    "        loc = locs[i]\n",
    "        rawMoviesData = extractOnePage(page)\n",
    "        refinedCatData = [(mv[0], mv[1], loc, cat, mv[2]) for mv in rawMoviesData if mv]\n",
    "        result.append(refinedCatData)\n",
    "    browser.quit()\n",
    "    return result"
   ]
  },
  {
   "cell_type": "code",
   "execution_count": 23,
   "metadata": {},
   "outputs": [],
   "source": [
    "def top3ForOneCat (cat):\n",
    "    catData = newBatchForOneCat(cat)\n",
    "    stats = [(d[0][2], len(d)) for d in catData if d] # [(loc, count), ...]\n",
    "    stats = sorted(stats, key=lambda item: item[1], reverse=True)\n",
    "    stats += [None, None, None] # 保证有3个\n",
    "    return {cat: [stats[0], stats[1], stats[2]]}"
   ]
  },
  {
   "cell_type": "code",
   "execution_count": 24,
   "metadata": {},
   "outputs": [],
   "source": [
    "# top3ForOneCat('剧情')"
   ]
  },
  {
   "cell_type": "code",
   "execution_count": 25,
   "metadata": {},
   "outputs": [],
   "source": [
    "from gevent import monkey, spawn, joinall\n",
    "monkey.patch_socket()\n",
    "def getAllTop3s ():\n",
    "    gs = [spawn(top3ForOneCat, cat) for cat in cats]\n",
    "    joinall(gs)\n",
    "    return [g.value for g in gs]"
   ]
  },
  {
   "cell_type": "code",
   "execution_count": 26,
   "metadata": {},
   "outputs": [],
   "source": [
    "rankTop3Data = getAllTop3s()"
   ]
  },
  {
   "cell_type": "code",
   "execution_count": 27,
   "metadata": {
    "scrolled": false
   },
   "outputs": [
    {
     "data": {
      "text/plain": [
       "[{'剧情': [('英国', 85), ('日本', 81), ('美国', 39)]},\n",
       " {'爱情': [('美国', 45), ('英国', 27), ('日本', 20)]},\n",
       " {'喜剧': [('美国', 161), ('英国', 79), ('日本', 24)]},\n",
       " {'科幻': [('英国', 38), ('日本', 28), ('美国', 19)]},\n",
       " {'动作': [('美国', 25), ('日本', 19), ('英国', 7)]},\n",
       " {'悬疑': [('英国', 36), ('美国', 17), ('日本', 7)]},\n",
       " {'犯罪': [('英国', 40), ('美国', 21), ('日本', 5)]},\n",
       " {'恐怖': [('美国', 10), ('日本', 3), ('英国', 3)]},\n",
       " {'青春': [('美国', 23), ('日本', 15), ('英国', 13)]},\n",
       " {'励志': [('美国', 49), ('日本', 19), ('英国', 11)]},\n",
       " {'战争': [('美国', 19), ('日本', 13), ('英国', 13)]},\n",
       " {'文艺': [('美国', 22), ('法国', 17), ('英国', 12)]},\n",
       " {'黑色': [('美国', 9), ('英国', 6), ('日本', 1)]},\n",
       " {'幽默': [('美国', 2), ('英国', 1), ('法国', 1)]},\n",
       " {'传记': [('美国', 67), ('英国', 59), ('日本', 11)]},\n",
       " {'情色': [('美国', 2), ('日本', 1), None]},\n",
       " {'暴力': [('美国', 15), ('英国', 3), ('俄罗斯', 1)]},\n",
       " {'音乐': [('美国', 306), ('英国', 197), ('德国', 48)]},\n",
       " {'家庭': [('美国', 66), ('日本', 17), ('英国', 10)]}]"
      ]
     },
     "execution_count": 27,
     "metadata": {},
     "output_type": "execute_result"
    }
   ],
   "source": [
    "rankTop3Data"
   ]
  },
  {
   "cell_type": "code",
   "execution_count": 83,
   "metadata": {},
   "outputs": [],
   "source": [
    "import pandas as pd\n",
    "\n",
    "rowData = []\n",
    "index = []\n",
    "[rowData.append(list(rec.values())[0]) or index.append(list(rec.keys())[0]) for rec in rankTop3Data]\n",
    "\n",
    "df = pd.DataFrame(data=rowData, index=index, columns=['Gold', 'Silver', 'Bronze'])"
   ]
  },
  {
   "cell_type": "code",
   "execution_count": 86,
   "metadata": {},
   "outputs": [],
   "source": [
    "df.to_csv('output.csv')"
   ]
  },
  {
   "cell_type": "code",
   "execution_count": null,
   "metadata": {},
   "outputs": [],
   "source": []
  }
 ],
 "metadata": {
  "kernelspec": {
   "display_name": "Python 3",
   "language": "python",
   "name": "python3"
  },
  "language_info": {
   "codemirror_mode": {
    "name": "ipython",
    "version": 3
   },
   "file_extension": ".py",
   "mimetype": "text/x-python",
   "name": "python",
   "nbconvert_exporter": "python",
   "pygments_lexer": "ipython3",
   "version": "3.6.4"
  }
 },
 "nbformat": 4,
 "nbformat_minor": 2
}
